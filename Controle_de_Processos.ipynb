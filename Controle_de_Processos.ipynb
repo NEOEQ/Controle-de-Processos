{
  "nbformat": 4,
  "nbformat_minor": 0,
  "metadata": {
    "colab": {
      "name": "Controle de Processos.ipynb",
      "provenance": [],
      "authorship_tag": "ABX9TyNTWtFm3RZn8SClJWi8i4Mt",
      "include_colab_link": true
    },
    "kernelspec": {
      "name": "python3",
      "display_name": "Python 3"
    },
    "language_info": {
      "name": "python"
    }
  },
  "cells": [
    {
      "cell_type": "markdown",
      "metadata": {
        "id": "view-in-github",
        "colab_type": "text"
      },
      "source": [
        "<a href=\"https://colab.research.google.com/github/NEOEQ/Controle-de-Processos/blob/main/Controle_de_Processos.ipynb\" target=\"_parent\"><img src=\"https://colab.research.google.com/assets/colab-badge.svg\" alt=\"Open In Colab\"/></a>"
      ]
    },
    {
      "cell_type": "markdown",
      "metadata": {
        "id": "IP9msLY_Nzkh"
      },
      "source": [
        ""
      ]
    },
    {
      "cell_type": "markdown",
      "metadata": {
        "id": "8WMMFln3N34g"
      },
      "source": [
        "**Projeto Aula-1: Modelagem de um tanque de nível**"
      ]
    },
    {
      "cell_type": "code",
      "metadata": {
        "colab": {
          "base_uri": "https://localhost:8080/",
          "height": 294
        },
        "id": "-I3-yqcONqrn",
        "outputId": "535ed247-39ff-4c30-a2d7-16938cdf83a9"
      },
      "source": [
        "%matplotlib inline\n",
        "import matplotlib.pyplot as plt\n",
        "import numpy as np\n",
        "from scipy.integrate import odeint\n",
        "Cv  = 0.1     # Outlet valve constant [cubic meters/min/meter^1/2]\n",
        "A   = 1.0     # Tank area [meter^2]\n",
        "# inlet flow rate in cubic meters/min\n",
        "def qin(t):\n",
        "    return 0.15\n",
        "\n",
        "def deriv(h,t):\n",
        "    return qin(t)/A - Cv*np.sqrt(h)/A\n",
        "IC = [0.0]\n",
        "t = np.linspace(0,200,101)\n",
        "h = odeint(deriv,IC,t)\n",
        "\n",
        "plt.plot(t,h)\n",
        "\n",
        "plt.xlabel('minutos')\n",
        "plt.ylabel('metros')\n",
        "plt.title('Tanque de nível')\n",
        "plt.legend(['Nível do tanque']);"
      ],
      "execution_count": 2,
      "outputs": [
        {
          "output_type": "display_data",
          "data": {
            "image/png": "[encoded data removed]",
            "text/plain": [
              "<Figure size 432x288 with 1 Axes>"
            ]
          },
          "metadata": {
            "tags": [],
            "needs_background": "light"
          }
        }
      ]
    }
  ]
}