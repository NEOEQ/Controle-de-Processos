{
 "cells": [
  {
   "cell_type": "markdown",
   "id": "14f45bfa",
   "metadata": {},
   "source": [
    "# Transformadas de Laplace"
   ]
  },
  {
   "cell_type": "markdown",
   "id": "6f417dc1",
   "metadata": {},
   "source": [
    "A transformada de Laplace converte uma função $f(t)$, no domínio tempo, em uma função $F(s)$ no domínio de Laplace:\n",
    "\n",
    "$$F(s)={\\mathcal L}{({f(t)})}=\\int_0^\\infty f(t)e^{-s{}t}dt$$"
   ]
  },
  {
   "cell_type": "markdown",
   "id": "b7bea180",
   "metadata": {},
   "source": [
    "Como um exemplo, a transformada de Laplace de uma constante $c$, ou seja, $f(t)=c$, é dada pela seguinte transformada:\n",
    "\n",
    "$${\\mathcal L}(c)=\\int_0^\\infty c{}e^{-s{}t}dt=-\\frac cse^{-s{}t}\\vert_0^\\infty=0-{(-\\frac cs)}=\\frac cs$$\n"
   ]
  },
  {
   "cell_type": "markdown",
   "id": "d075105f",
   "metadata": {},
   "source": [
    "## Passo 1. Importação das bibliotecas"
   ]
  },
  {
   "cell_type": "code",
   "execution_count": 35,
   "id": "53f3c618",
   "metadata": {},
   "outputs": [],
   "source": [
    "import sympy as sym\n",
    "omega = sym.Symbol('omega', real=True)\n",
    "import numpy as np\n",
    "from sympy.abc import s,t,x,y,z,a\n",
    "from sympy.integrals import laplace_transform\n",
    "from sympy.integrals import inverse_laplace_transform"
   ]
  },
  {
   "cell_type": "markdown",
   "id": "164204c9",
   "metadata": {},
   "source": [
    "## Passo 2. Aplicação da Transformada de Laplace"
   ]
  },
  {
   "cell_type": "code",
   "execution_count": 47,
   "id": "204a9874",
   "metadata": {},
   "outputs": [
    {
     "name": "stdout",
     "output_type": "stream",
     "text": [
      "F\n",
      "2/s**3\n"
     ]
    }
   ],
   "source": [
    "# Laplace transform (t->s)\n",
    "F = laplace_transform(t**2, t, s)\n",
    "print('F')\n",
    "print(F[0])\n",
    "# Result: 5/s**2"
   ]
  },
  {
   "cell_type": "markdown",
   "id": "8f21466a",
   "metadata": {},
   "source": [
    "## Passo 3. Aplicação da Transformada de Laplace Inversa"
   ]
  },
  {
   "cell_type": "code",
   "execution_count": 48,
   "id": "52fb9c1b",
   "metadata": {},
   "outputs": [
    {
     "name": "stdout",
     "output_type": "stream",
     "text": [
      "X\n",
      "t**2*Heaviside(t)\n"
     ]
    }
   ],
   "source": [
    "# Inverse Laplace transform (s->t)\n",
    "X = inverse_laplace_transform(F[0],s,t)\n",
    "print('X')\n",
    "print(X)\n",
    "# Result: 5*t*Heaviside(t)"
   ]
  },
  {
   "cell_type": "markdown",
   "id": "b863544c",
   "metadata": {},
   "source": [
    "## Tabela de Transformadas de Laplace"
   ]
  },
  {
   "cell_type": "code",
   "execution_count": 45,
   "id": "30c2bed7",
   "metadata": {},
   "outputs": [
    {
     "data": {
      "text/plain": [
       "[1,\n",
       " t,\n",
       " exp(-a*t),\n",
       " t*exp(-a*t),\n",
       " t**2*exp(-a*t),\n",
       " sin(omega*t),\n",
       " cos(omega*t),\n",
       " 1 - exp(-a*t),\n",
       " exp(-a*t)*sin(omega*t),\n",
       " exp(-a*t)*cos(omega*t)]"
      ]
     },
     "execution_count": 45,
     "metadata": {},
     "output_type": "execute_result"
    }
   ],
   "source": [
    "exp = sym.exp\n",
    "sin = sym.sin\n",
    "cos = sym.cos\n",
    "functions = [1,\n",
    "         t,\n",
    "         exp(-a*t),\n",
    "         t*exp(-a*t),\n",
    "         t**2*exp(-a*t),\n",
    "         sin(omega*t),\n",
    "         cos(omega*t),\n",
    "         1 - exp(-a*t),\n",
    "         exp(-a*t)*sin(omega*t),\n",
    "         exp(-a*t)*cos(omega*t),\n",
    "         ]\n",
    "functions"
   ]
  },
  {
   "cell_type": "code",
   "execution_count": 52,
   "id": "f2457f3f",
   "metadata": {},
   "outputs": [
    {
     "data": {
      "text/plain": [
       "[1/s,\n",
       " s**(-2),\n",
       " 1/(a + s),\n",
       " (a + s)**(-2),\n",
       " 2/(a + s)**3,\n",
       " omega/(omega**2 + s**2),\n",
       " s/(omega**2 + s**2),\n",
       " a/(s*(a + s)),\n",
       " omega/(omega**2 + (a + s)**2),\n",
       " (a + s)/(omega**2 + (a + s)**2)]"
      ]
     },
     "execution_count": 52,
     "metadata": {},
     "output_type": "execute_result"
    }
   ],
   "source": [
    "def L(f):\n",
    "    return sym.laplace_transform(f, t, s, noconds=True)\n",
    "Fs = [L(f) for f in functions] # aplicando a tranformada de Laplace\n",
    "Fs"
   ]
  },
  {
   "cell_type": "markdown",
   "id": "2729268e",
   "metadata": {},
   "source": [
    "$\\lbrack\\frac1s,\\text{ }\\frac1{s^2},\\text{ }\\frac1{a+s},\\text{ }\\frac1{{(a+s)}^2},\\text{ }\\frac2{{(a+s)}^3},\\text{ }\\frac\\omega{\\omega^2+s^2},\\text{ }\\frac s{\\omega^2+s^2},\\text{ }\\frac a{s{(a+s)}},\\text{ }\\frac\\omega{\\omega^2+{(a+s)}^2},\\text{ }\\frac{a+s}{\\omega^2+{(a+s)}^2}\\rbrack$"
   ]
  },
  {
   "cell_type": "code",
   "execution_count": null,
   "id": "efc7f578",
   "metadata": {},
   "outputs": [],
   "source": []
  }
 ],
 "metadata": {
  "kernelspec": {
   "display_name": "Python 3",
   "language": "python",
   "name": "python3"
  },
  "language_info": {
   "codemirror_mode": {
    "name": "ipython",
    "version": 3
   },
   "file_extension": ".py",
   "mimetype": "text/x-python",
   "name": "python",
   "nbconvert_exporter": "python",
   "pygments_lexer": "ipython3",
   "version": "3.8.5"
  }
 },
 "nbformat": 4,
 "nbformat_minor": 5
}
