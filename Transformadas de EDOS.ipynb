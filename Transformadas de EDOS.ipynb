{
  "nbformat": 4,
  "nbformat_minor": 0,
  "metadata": {
    "colab": {
      "name": "Untitled5.ipynb",
      "provenance": [],
      "authorship_tag": "ABX9TyN5/A/vN49X08Ut5sykaGy1",
      "include_colab_link": true
    },
    "kernelspec": {
      "name": "python3",
      "display_name": "Python 3"
    },
    "language_info": {
      "name": "python"
    }
  },
  "cells": [
    {
      "cell_type": "markdown",
      "metadata": {
        "id": "view-in-github",
        "colab_type": "text"
      },
      "source": [
        "<a href=\"https://colab.research.google.com/github/NEOEQ/Controle-de-Processos/blob/main/Transformadas%20de%20EDOS.ipynb\" target=\"_parent\"><img src=\"https://colab.research.google.com/assets/colab-badge.svg\" alt=\"Open In Colab\"/></a>"
      ]
    },
    {
      "cell_type": "code",
      "metadata": {
        "colab": {
          "base_uri": "https://localhost:8080/"
        },
        "id": "CQpYo2G9JOyd",
        "outputId": "7854d018-8ef3-4d7b-ab9d-1c2c6a158a2e"
      },
      "source": [
        "pip install gekko"
      ],
      "execution_count": 4,
      "outputs": [
        {
          "output_type": "stream",
          "name": "stdout",
          "text": [
            "Collecting gekko\n",
            "  Downloading gekko-1.0.2-py3-none-any.whl (12.4 MB)\n",
            "\u001b[K     |████████████████████████████████| 12.4 MB 65 kB/s \n",
            "\u001b[?25hRequirement already satisfied: numpy>=1.8 in /usr/local/lib/python3.7/dist-packages (from gekko) (1.19.5)\n",
            "Installing collected packages: gekko\n",
            "Successfully installed gekko-1.0.2\n"
          ]
        }
      ]
    },
    {
      "cell_type": "code",
      "metadata": {
        "colab": {
          "base_uri": "https://localhost:8080/",
          "height": 278
        },
        "id": "B4JHJ935IrMy",
        "outputId": "82da648d-fae0-45e2-c6de-517f50dfc0c1"
      },
      "source": [
        "from gekko import GEKKO  # importando o pacote gekko\n",
        "import numpy as np # importando o pacote matematico numpy\n",
        "import matplotlib.pyplot as plt # importando a biblioteca gráfica\n",
        "\n",
        "# Criando um modelo gekko\n",
        "m = GEKKO()\n",
        "\n",
        "# Pontos para a simulação\n",
        "nt = 81 # nuemro de pontos\n",
        "m.time = np.linspace(0,8,nt) \n",
        "\n",
        "# Define input\n",
        "# First step (up) starts at 1 sec\n",
        "# Ramp (down) starts at 3 sec\n",
        "# Ramp completes at 5 sec\n",
        "ut = np.zeros(nt)\n",
        "ut[1:81] = 1.0\n",
        "\n",
        "\n",
        "# Define model\n",
        "u = m.Param(value=ut)\n",
        "ud = m.Var()\n",
        "y = m.Var()\n",
        "dydt = m.Var()\n",
        "m.Equation(ud==u)\n",
        "m.Equation(dydt==y.dt())\n",
        "m.Equation(5*y.dt() + 4*y==2*u)\n",
        "\n",
        "# Simulation options\n",
        "m.options.IMODE=7\n",
        "m.options.NODES=4\n",
        "m.solve(disp=False)\n",
        "\n",
        "# plot results\n",
        "plt.figure()\n",
        "plt.plot(m.time,u.value,label='u(t)')\n",
        "plt.plot(m.time,y.value,label='y(t)')\n",
        "plt.legend()\n",
        "plt.xlabel('Time')\n",
        "plt.show()"
      ],
      "execution_count": 7,
      "outputs": [
        {
          "output_type": "display_data",
          "data": {
            "image/png": "[encoded data removed]",
            "text/plain": [
              "<Figure size 432x288 with 1 Axes>"
            ]
          },
          "metadata": {
            "needs_background": "light"
          }
        }
      ]
    }
  ]
}