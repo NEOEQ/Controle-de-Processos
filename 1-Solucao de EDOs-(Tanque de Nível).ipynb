{
 "cells": [
  {
   "cell_type": "markdown",
   "metadata": {
    "colab_type": "text",
    "id": "VzFcLHpl3OPe"
   },
   "source": [
    "# 1. Modelagem do tanque de nível"
   ]
  },
  {
   "cell_type": "markdown",
   "metadata": {
    "colab_type": "text",
    "id": "VzFcLHpl3OPe"
   },
   "source": [
    "## Resumo\n",
    "\n",
    "Nesse exemplo estudaremos como construir um modelo não linear de um tanque de nível."
   ]
  },
  {
   "cell_type": "markdown",
   "metadata": {
    "colab_type": "text",
    "id": "xSIqWFm93OPg"
   },
   "source": [
    "## Lei de Torricelli\n",
    "\n",
    "A lei de Torricelli estabelece que a velocidade de um fluido incompressível que sai de um tanque com um líquido no nível $h$ abaixo da superfície é dada por: \n",
    "\n",
    "$$v = \\sqrt{2gh}$$ \n"
   ]
  },
  {
   "cell_type": "markdown",
   "metadata": {
    "colab_type": "text",
    "id": "zGDdqtSj3OPj"
   },
   "source": [
    "Aplicado a equação de Bernoulli para uma linha de corrente da superfície do tanque até a saída a uma distânica $h$ da superfície:\n",
    "\n",
    "$$gh + \\frac{P_{atm}}{\\rho} = \\frac{v^2}{2} + \\frac{P_{atm}}{\\rho}$$\n",
    "\n",
    "$$\\implies v^2 = 2gh$$\n",
    "$$\\implies v = \\sqrt{2gh}$$\n"
   ]
  },
  {
   "cell_type": "markdown",
   "metadata": {
    "colab_type": "text",
    "id": "H8dmoxAJ3OPk"
   },
   "source": [
    "## Balanço de massa para um tanque com seção tranversal constante\n",
    "\n",
    "Para um tanque cilíndrico com seção tranversal constante, a variação do nível de líquido pode ser escrita pela seguinte equação diferecial:\n",
    "\n",
    "$$A\\frac{dh}{dt} = q_{in}(t) - q_{out}(t)$$\n",
    "\n",
    "onde $q_{out}$ é uma função do nível de líquido. Considerando que a vazão de saída de líquido é proporcional à raiz quadrada do nível, podemos escrever: \n",
    "\n",
    "$$ q_{out}(h) = C_v\\sqrt{h} $$"
   ]
  },
  {
   "cell_type": "markdown",
   "metadata": {
    "colab_type": "text",
    "id": "rcxaOAy73OPl"
   },
   "source": [
    "Dividindo pela área temos a seguinte equação diferencial: \n",
    "\n",
    "$$ \\frac{dh}{dt} = - \\frac{C_V}{A}\\sqrt{h} + \\frac{1}{A}q_{in}(t) $$\n"
   ]
  },
  {
   "cell_type": "markdown",
   "metadata": {
    "colab_type": "text",
    "id": "56j29DiG3OPm"
   },
   "source": [
    "## Passo-a-passo da simulação"
   ]
  },
  {
   "cell_type": "markdown",
   "metadata": {
    "colab_type": "text",
    "id": "C-BiES7y3OPn"
   },
   "source": [
    "### Passo 1. Inicializar o Jupyter e o Python\n",
    "\n",
    "O primeiro passo em uma aplicação python é inicializar a visualização gráfica do Jupyter e importar as bibliotecas necessárias.  \n",
    "\n",
    "O comando `%matplotlib inline` é um comando que informa ao Jupyter notebook que os gráficos gerados serão mostrados no notebook..\n",
    "\n",
    "Nós importamos então a biblioteca (`matplotlib.pyplot`) que será usada com o prefixo `plt`, a biblioteca numérica `numpy` que será usada com o prefixo `np`, e a função `odeint` importada da bilioteca `scipy.integrate`.  "
   ]
  },
  {
   "cell_type": "code",
   "execution_count": 133,
   "metadata": {
    "colab": {},
    "colab_type": "code",
    "id": "lAtqLB373OPp"
   },
   "outputs": [],
   "source": [
    "%matplotlib inline\n",
    "import matplotlib.pyplot as plt\n",
    "import numpy as np\n",
    "from scipy.integrate import odeint"
   ]
  },
  {
   "cell_type": "markdown",
   "metadata": {
    "colab_type": "text",
    "id": "Rz2LNFOP3OPu"
   },
   "source": [
    "### Passo 2. Definindo os parâmetros\n",
    "\n",
    "Especificar os valores de todos os parâmetros do modelo.  Usar comentários para descrever os parâmetros."
   ]
  },
  {
   "cell_type": "code",
   "execution_count": 159,
   "metadata": {
    "colab": {},
    "colab_type": "code",
    "id": "qYEqVEsU3OPv"
   },
   "outputs": [],
   "source": [
    "Cv  = 0.1     # Constante da válvula [cubic meters/min/meter^1/2]\n",
    "A   = 1.0     # Área do tanque [meter^2]\n",
    "q_s = 0.15    # Valor da vazão de entrada no instante inicial\n",
    "h_s = (q_s/Cv)**2  # Valor do nível no estado estacionário"
   ]
  },
  {
   "cell_type": "markdown",
   "metadata": {
    "colab_type": "text",
    "id": "QqTpi1bf3OPy"
   },
   "source": [
    "### Passo 3. Escrever as funções "
   ]
  },
  {
   "cell_type": "code",
   "execution_count": 163,
   "metadata": {
    "colab": {},
    "colab_type": "code",
    "id": "nuIhX1VO3OPy"
   },
   "outputs": [],
   "source": [
    "# Vazão de entrada [cubic meters/mi]n\n",
    "def qin(t):\n",
    "    return 0.2 # valor da vazão a partir do instante t=0\n",
    "\n",
    "# Equação diferencial não linear (original)\n",
    "def deriv(h,t):\n",
    "    return qin(t)/A - Cv*np.sqrt(h)/A\n",
    "\n",
    "# Equação diferencial linearizada\n",
    "def deriv_linear(h1,t):\n",
    "    return (qin(t)-q_s)/A - Cv*(h1-h_s)/(2*A*np.sqrt(h_s))"
   ]
  },
  {
   "cell_type": "markdown",
   "metadata": {
    "colab_type": "text",
    "id": "n1EJHyQd3OP1"
   },
   "source": [
    "### Passo 4. Escolher a condição inicial, intervalo de amostragem e integrar a equação diferencial"
   ]
  },
  {
   "cell_type": "code",
   "execution_count": 164,
   "metadata": {
    "colab": {},
    "colab_type": "code",
    "id": "HiA2HZcb3OP1"
   },
   "outputs": [],
   "source": [
    "IC = [h_s]\n",
    "t = np.linspace(0,400,101) # 0 até 200 minutos (usando 101 pontos)\n",
    "h = odeint(deriv,IC,t) # integrando a EDO (valor inicial)\n",
    "h1 = odeint(deriv_linear,IC,t) # integrando a EDO (valor inicial)"
   ]
  },
  {
   "cell_type": "markdown",
   "metadata": {
    "colab_type": "text",
    "id": "UJ5008ZA3OP6"
   },
   "source": [
    "### Passo 5. Visualizar e analisar os resultados"
   ]
  },
  {
   "cell_type": "code",
   "execution_count": 169,
   "metadata": {
    "colab": {
     "base_uri": "https://localhost:8080/",
     "height": 294
    },
    "colab_type": "code",
    "id": "DyQyXfpp3OP8",
    "outputId": "be349d5d-4806-4249-e3c5-85f14d31ff28"
   },
   "outputs": [
    {
     "data": {
      "image/png": "[encoded data removed]",
      "text/plain": [
       "<Figure size 432x288 with 1 Axes>"
      ]
     },
     "metadata": {
      "needs_background": "light"
     },
     "output_type": "display_data"
    }
   ],
   "source": [
    "plt.plot(t,h,t,h1)\n",
    "\n",
    "plt.xlabel('minutos')\n",
    "plt.ylabel('metros')\n",
    "plt.title('Tanque de Nível')\n",
    "plt.legend(['Nível de líquido-não-linear','Nível de líquido-linear']);\n",
    "plt.grid()"
   ]
  },
  {
   "cell_type": "code",
   "execution_count": 170,
   "metadata": {},
   "outputs": [
    {
     "data": {
      "image/png": "[encoded data removed]",
      "text/plain": [
       "<Figure size 432x288 with 1 Axes>"
      ]
     },
     "metadata": {
      "needs_background": "light"
     },
     "output_type": "display_data"
    }
   ],
   "source": [
    "plt.plot(t,h-h_s,t,h1-h_s)\n",
    "\n",
    "plt.xlabel('minutos')\n",
    "plt.ylabel('metros(desvio)')\n",
    "plt.title('Tanque de Nível(desvio)')\n",
    "plt.legend(['Nível de líquido-não-linear','Nível de líquido-linear']);\n",
    "plt.grid()"
   ]
  },
  {
   "cell_type": "code",
   "execution_count": null,
   "metadata": {},
   "outputs": [],
   "source": []
  }
 ],
 "metadata": {
  "colab": {
   "name": "Gravity Drained Tank.ipynb",
   "provenance": [],
   "version": "0.3.2"
  },
  "kernelspec": {
   "display_name": "Python 3",
   "language": "python",
   "name": "python3"
  },
  "language_info": {
   "codemirror_mode": {
    "name": "ipython",
    "version": 3
   },
   "file_extension": ".py",
   "mimetype": "text/x-python",
   "name": "python",
   "nbconvert_exporter": "python",
   "pygments_lexer": "ipython3",
   "version": "3.8.5"
  }
 },
 "nbformat": 4,
 "nbformat_minor": 2
}
